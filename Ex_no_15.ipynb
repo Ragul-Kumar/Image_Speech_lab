{
 "cells": [
  {
   "cell_type": "code",
   "execution_count": 3,
   "id": "e2f8bff1-6584-49b6-b229-72a054597a02",
   "metadata": {},
   "outputs": [
    {
     "name": "stdout",
     "output_type": "stream",
     "text": [
      "[ 1.3375829e-06  9.3007431e-05  2.7571677e-04 ... -3.6027571e-03\n",
      " -8.6140390e-03 -8.0846548e-03]\n",
      "Sample rate: 22050Hz\n",
      "Audio duration: 5.999909297052154s\n",
      "[[-570.9086    -554.23773   -555.0986    ... -398.3943    -384.33212\n",
      "  -398.39484  ]\n",
      " [  71.422745    80.67343     76.562546  ...  164.41812    165.85626\n",
      "   148.20538  ]\n",
      " [  16.558233    11.797859     7.778635  ...  -28.172817   -35.002396\n",
      "   -21.935617 ]\n",
      " ...\n",
      " [   6.058252    10.726042    12.6091385 ...    5.223958     2.8681116\n",
      "    -2.691353 ]\n",
      " [  -7.368669    -7.398258    -6.3873205 ...  -14.802153   -11.436651\n",
      "    -2.3171582]\n",
      " [  -8.14266     -6.4936867   -6.242358  ...    9.275814    10.116062\n",
      "    11.539099 ]]\n"
     ]
    }
   ],
   "source": [
    "import librosa \n",
    "y,sr=librosa.load('Audio\\set1.wav') \n",
    "print(y) \n",
    "print(\"Sample rate: {0}Hz\".format(sr)) \n",
    "print(\"Audio duration: {0}s\".format(len(y) / sr)) \n",
    "print(librosa.feature.mfcc(y=y,sr=sr,n_mfcc=13)) "
   ]
  }
 ],
 "metadata": {
  "kernelspec": {
   "display_name": "Python 3 (ipykernel)",
   "language": "python",
   "name": "python3"
  },
  "language_info": {
   "codemirror_mode": {
    "name": "ipython",
    "version": 3
   },
   "file_extension": ".py",
   "mimetype": "text/x-python",
   "name": "python",
   "nbconvert_exporter": "python",
   "pygments_lexer": "ipython3",
   "version": "3.11.7"
  }
 },
 "nbformat": 4,
 "nbformat_minor": 5
}
