{
 "cells": [
  {
   "cell_type": "code",
   "execution_count": 1,
   "id": "99bbee80-bdab-4db6-8f13-8f20912a6ded",
   "metadata": {},
   "outputs": [],
   "source": [
    "import cv2\n",
    "import numpy as np\n",
    "\n",
    "# Creating mouse callback function   \n",
    "def draw_circle(event, x, y, flags, param):   \n",
    "    if event == cv2.EVENT_LBUTTONDBLCLK:   \n",
    "        cv2.circle(img, (x, y), 100, (255, 255, 0), -1)\n",
    "\n",
    "# Creating a black image, a window, and bind the function to the window   \n",
    "img = np.zeros((512, 512, 3), np.uint8)   \n",
    "cv2.namedWindow('image')   \n",
    "cv2.setMouseCallback('image', draw_circle)   \n",
    "\n",
    "while True:   \n",
    "    cv2.imshow('image', img)   \n",
    "    if cv2.waitKey(20) & 0xFF == 27:  # ESC key to exit\n",
    "        break   \n",
    "\n",
    "cv2.destroyAllWindows()\n"
   ]
  }
 ],
 "metadata": {
  "kernelspec": {
   "display_name": "Python 3 (ipykernel)",
   "language": "python",
   "name": "python3"
  },
  "language_info": {
   "codemirror_mode": {
    "name": "ipython",
    "version": 3
   },
   "file_extension": ".py",
   "mimetype": "text/x-python",
   "name": "python",
   "nbconvert_exporter": "python",
   "pygments_lexer": "ipython3",
   "version": "3.11.7"
  }
 },
 "nbformat": 4,
 "nbformat_minor": 5
}
